{
 "cells": [
  {
   "cell_type": "markdown",
   "metadata": {},
   "source": [
    "# Object-oriented programming"
   ]
  },
  {
   "cell_type": "markdown",
   "metadata": {},
   "source": [
    "# The big reveal"
   ]
  },
  {
   "cell_type": "markdown",
   "metadata": {},
   "source": [
    "So far we've been working with functions and packages of functions, as well as defining our own functions.  It turns out, though, that we've been working with objects all along, we just haven't recognize them as such. For example,"
   ]
  },
  {
   "cell_type": "code",
   "execution_count": 2,
   "metadata": {},
   "outputs": [
    {
     "name": "stdout",
     "output_type": "stream",
     "text": [
      "hi\n",
      "<class 'str'>\n",
      "<class 'builtin_function_or_method'>\n"
     ]
    }
   ],
   "source": [
    "x = 'Hi'\n",
    "print( x.lower() ) # send message lower to x\n",
    "print( type(x) )\n",
    "print( type(x.lower) )"
   ]
  },
  {
   "cell_type": "markdown",
   "metadata": {},
   "source": [
    "The string `x` is an object that we can send messages to."
   ]
  },
  {
   "cell_type": "markdown",
   "metadata": {},
   "source": [
    "Even integers are objects:"
   ]
  },
  {
   "cell_type": "code",
   "execution_count": 3,
   "metadata": {},
   "outputs": [
    {
     "name": "stdout",
     "output_type": "stream",
     "text": [
      "<class 'int'>\n",
      "['__abs__', '__add__', '__and__', '__bool__', '__ceil__', '__class__', '__delattr__', '__dir__', '__divmod__', '__doc__', '__eq__', '__float__', '__floor__', '__floordiv__', '__format__', '__ge__', '__getattribute__', '__getnewargs__', '__gt__', '__hash__', '__index__', '__init__', '__init_subclass__', '__int__', '__invert__', '__le__', '__lshift__', '__lt__', '__mod__', '__mul__', '__ne__', '__neg__', '__new__', '__or__', '__pos__', '__pow__', '__radd__', '__rand__', '__rdivmod__', '__reduce__', '__reduce_ex__', '__repr__', '__rfloordiv__', '__rlshift__', '__rmod__', '__rmul__', '__ror__', '__round__', '__rpow__', '__rrshift__', '__rshift__', '__rsub__', '__rtruediv__', '__rxor__', '__setattr__', '__sizeof__', '__str__', '__sub__', '__subclasshook__', '__truediv__', '__trunc__', '__xor__', 'as_integer_ratio', 'bit_length', 'conjugate', 'denominator', 'from_bytes', 'imag', 'numerator', 'real', 'to_bytes']\n"
     ]
    }
   ],
   "source": [
    "print( type(99) )\n",
    "print( dir(99) )"
   ]
  },
  {
   "cell_type": "markdown",
   "metadata": {},
   "source": [
    "A *class* is the blueprint for an object and is basically the name of the type, `str` in this case. An object is called an *instance* of the class.\n",
    "\n",
    "In `x.lower()` we are sending the `lower` message to the `x` string object. Messages are really just functions associated with classes/objects."
   ]
  },
  {
   "cell_type": "code",
   "execution_count": 4,
   "metadata": {},
   "outputs": [
    {
     "data": {
      "text/plain": [
       "<function str.lower()>"
      ]
     },
     "execution_count": 4,
     "metadata": {},
     "output_type": "execute_result"
    }
   ],
   "source": [
    "x.lower"
   ]
  },
  {
   "cell_type": "markdown",
   "metadata": {},
   "source": [
    "In a language that does not support object learning programming, we would do something like:\n",
    "\n",
    "```python\n",
    "lower(x)\n",
    "```\n",
    "\n",
    "Python has both functions and object reprogramming which is why there is both `x.lower()` and:"
   ]
  },
  {
   "cell_type": "code",
   "execution_count": 5,
   "metadata": {},
   "outputs": [
    {
     "data": {
      "text/plain": [
       "2"
      ]
     },
     "execution_count": 5,
     "metadata": {},
     "output_type": "execute_result"
    }
   ],
   "source": [
    "len(x)"
   ]
  },
  {
   "cell_type": "markdown",
   "metadata": {},
   "source": [
    "The choice of function or \"message\" is up to the library designer, but `lower` only makes sense for strings so it makes sense to group it with the definition of `str`.\n",
    "\n",
    "In terms of implementation, however, `x.lower()` is actually implemented as `str.lower(x)` where `str` is the class definition for strings. Computer processors understand function calls; they do not understand objects and so we performed this translation within the Python interpreter itself."
   ]
  },
  {
   "cell_type": "markdown",
   "metadata": {},
   "source": [
    "# Package vs object members\n",
    "\n",
    "Let's get another thing straight. The dot `.` operator is overloaded in Python to mean both package member and object member access.  You are familiar with this already:"
   ]
  },
  {
   "cell_type": "code",
   "execution_count": 6,
   "metadata": {},
   "outputs": [
    {
     "data": {
      "text/plain": [
       "array([1, 2, 3])"
      ]
     },
     "execution_count": 6,
     "metadata": {},
     "output_type": "execute_result"
    }
   ],
   "source": [
    "import numpy as np\n",
    "np.array([1,2,3])"
   ]
  },
  {
   "cell_type": "code",
   "execution_count": 7,
   "metadata": {},
   "outputs": [
    {
     "data": {
      "text/plain": [
       "8.006367567650246"
      ]
     },
     "execution_count": 7,
     "metadata": {},
     "output_type": "execute_result"
    }
   ],
   "source": [
    "import math\n",
    "math.log(3000)"
   ]
  },
  {
   "cell_type": "markdown",
   "metadata": {},
   "source": [
    "This is a common point of confusion when reading code. When we see `a.f()`, we don't know whether that function `f` is a member of the package identified by `a` or an object referred to by `a`."
   ]
  },
  {
   "cell_type": "markdown",
   "metadata": {},
   "source": [
    "## Exercise"
   ]
  },
  {
   "cell_type": "markdown",
   "metadata": {},
   "source": [
    "In the following, identify the *identifiers* (words) as package or function or field:\n",
    "\n",
    "1. `np.log(3)`\n",
    "1. `np.linalg.norm(v)`\n",
    "1. `from sklearn.ensemble import RandomForestRegressor`\n",
    "1. `pd.read_csv(\"foo.csv\")`\n",
    "1. `pd.read_csv`\n",
    "1. `'hi'.lower()`\n",
    "1. `'hi'.lower`\n",
    "1. `df_train.columns`\n",
    "1. `np.pi`\n",
    "1. `img = img.convert(\"L\")`\n",
    "\n",
    "Now, identify the data types of subexpressions and identify the *identifiers* (words) as package or function or field:\n",
    "\n",
    "1. `df[\"saledate\"].dt.year`\n",
    "1. `df_train.isnull().any().head(60)`"
   ]
  },
  {
   "cell_type": "markdown",
   "metadata": {},
   "source": [
    "# Fields versus methods\n",
    "\n",
    "Objects have functions, which we call *methods* to distinguish them from functions not associated with objects. Objects also have variables, which we call *fields* or *instance variables*.  \n",
    "\n",
    "Fields are the *state* of the object.  Methods are the *behavior* of the object.\n",
    "\n",
    "We've also been using fields all along, such as `df.columns` that gets the list of columns in a data frame."
   ]
  },
  {
   "cell_type": "code",
   "execution_count": 8,
   "metadata": {},
   "outputs": [
    {
     "name": "stdout",
     "output_type": "stream",
     "text": [
      "<class 'datetime.date'>\n",
      "2021\n",
      "8\n"
     ]
    }
   ],
   "source": [
    "import datetime\n",
    "now = datetime.date.today()\n",
    "print( type(now) )\n",
    "print( now.year ) # access field year\n",
    "print( now.month )"
   ]
  },
  {
   "cell_type": "markdown",
   "metadata": {},
   "source": [
    "If you try to access an objects function without the parentheses, the expression evaluates to the function object itself instead of calling it:"
   ]
  },
  {
   "cell_type": "code",
   "execution_count": 9,
   "metadata": {},
   "outputs": [
    {
     "data": {
      "text/plain": [
       "<function str.title()>"
      ]
     },
     "execution_count": 9,
     "metadata": {},
     "output_type": "execute_result"
    }
   ],
   "source": [
    "s='hi'\n",
    "s.title"
   ]
  },
  {
   "cell_type": "markdown",
   "metadata": {},
   "source": [
    "# A simple class definition"
   ]
  },
  {
   "cell_type": "markdown",
   "metadata": {},
   "source": [
    "A class is a blueprint for multiple objects, often called *instances*.  The class *encapsulates* the state and behavior of an object.\n",
    "\n",
    "Imagine an alien lands in your backyard and asks you to describe a car. You would probably describe its attributes, such as the number of wheels, and its functionality, such as can start and stop. These are the state and behavior. By defining them, we effectively define the object. The class name is just giving a name to the entity.\n",
    "\n",
    "By convention, class names should be capitalized like `Point`."
   ]
  },
  {
   "cell_type": "markdown",
   "metadata": {},
   "source": [
    "## Dictionaries as object substitutes\n",
    "\n",
    "The fields of an object are the data items we want to associate together. For example, if I want to track book titles/authors, I can use a list of dictionaries:"
   ]
  },
  {
   "cell_type": "code",
   "execution_count": 10,
   "metadata": {},
   "outputs": [
    {
     "data": {
      "image/svg+xml": [
       "<?xml version=\"1.0\" encoding=\"UTF-8\" standalone=\"no\"?>\n",
       "<!DOCTYPE svg PUBLIC \"-//W3C//DTD SVG 1.1//EN\"\n",
       " \"http://www.w3.org/Graphics/SVG/1.1/DTD/svg11.dtd\">\n",
       "<!-- Generated by graphviz version 2.47.3 (20210619.1520)\n",
       " -->\n",
       "<!-- Title: G Pages: 1 -->\n",
       "<svg width=\"178pt\" height=\"83pt\"\n",
       " viewBox=\"0.00 0.00 178.00 83.00\" xmlns=\"http://www.w3.org/2000/svg\" xmlns:xlink=\"http://www.w3.org/1999/xlink\">\n",
       "<g id=\"graph0\" class=\"graph\" transform=\"scale(1 1) rotate(0) translate(4 79)\">\n",
       "<title>G</title>\n",
       "<polygon fill=\"white\" stroke=\"transparent\" points=\"-4,4 -4,-79 174,-79 174,4 -4,4\"/>\n",
       "<!-- node140580320984960 -->\n",
       "<g id=\"node1\" class=\"node\">\n",
       "<title>node140580320984960</title>\n",
       "<polygon fill=\"#cfe2d4\" stroke=\"#444443\" stroke-width=\"0.5\" points=\"14,-54 0,-54 0,-20 14,-20 14,-54\"/>\n",
       "<polygon fill=\"#cfe2d4\" stroke=\"transparent\" points=\"1,-37 1,-53 13,-53 13,-37 1,-37\"/>\n",
       "<polyline fill=\"none\" stroke=\"#444443\" points=\"1,-37 13,-37 \"/>\n",
       "<text text-anchor=\"start\" x=\"4\" y=\"-42.8\" font-family=\"Helvetica,sans-Serif\" font-size=\"9.00\" fill=\"#444443\">0</text>\n",
       "<polygon fill=\"#cfe2d4\" stroke=\"transparent\" points=\"1,-21 1,-37 13,-37 13,-21 1,-21\"/>\n",
       "<text text-anchor=\"start\" x=\"4\" y=\"-26.8\" font-family=\"Helvetica,sans-Serif\" font-size=\"9.00\" fill=\"#444443\">1</text>\n",
       "</g>\n",
       "<!-- node140580460048128 -->\n",
       "<g id=\"node2\" class=\"node\">\n",
       "<title>node140580460048128</title>\n",
       "<polygon fill=\"#fefecd\" stroke=\"#444443\" stroke-width=\"0.5\" points=\"161,-75 45,-75 45,-41 161,-41 161,-75\"/>\n",
       "<polygon fill=\"#fefecd\" stroke=\"transparent\" points=\"47,-59 47,-73 86,-73 86,-59 47,-59\"/>\n",
       "<text text-anchor=\"start\" x=\"61\" y=\"-63.2\" font-family=\"Helvetica,sans-Serif\" font-size=\"11.00\" fill=\"#444443\">&#39;title&#39; </text>\n",
       "<text text-anchor=\"start\" x=\"86\" y=\"-61.8\" font-family=\"Helvetica,sans-Serif\" font-size=\"9.00\" fill=\"#444443\">→</text>\n",
       "<polygon fill=\"#fefecd\" stroke=\"transparent\" points=\"96,-59 96,-73 159,-73 159,-59 96,-59\"/>\n",
       "<text text-anchor=\"start\" x=\"97\" y=\"-63.2\" font-family=\"Helvetica,sans-Serif\" font-size=\"11.00\" fill=\"#444443\"> &#39;Gridlinked&#39;</text>\n",
       "<polygon fill=\"#fefecd\" stroke=\"transparent\" points=\"47,-57 47,-59 159,-59 159,-57 47,-57\"/>\n",
       "<polygon fill=\"#fefecd\" stroke=\"transparent\" points=\"47,-43 47,-57 86,-57 86,-43 47,-43\"/>\n",
       "<text text-anchor=\"start\" x=\"47\" y=\"-47.2\" font-family=\"Helvetica,sans-Serif\" font-size=\"11.00\" fill=\"#444443\">&#39;author&#39; </text>\n",
       "<text text-anchor=\"start\" x=\"86\" y=\"-45.8\" font-family=\"Helvetica,sans-Serif\" font-size=\"9.00\" fill=\"#444443\">→</text>\n",
       "<polygon fill=\"#fefecd\" stroke=\"transparent\" points=\"96,-43 96,-57 159,-57 159,-43 96,-43\"/>\n",
       "<text text-anchor=\"start\" x=\"97\" y=\"-47.2\" font-family=\"Helvetica,sans-Serif\" font-size=\"11.00\" fill=\"#444443\"> &#39;Neal Asher&#39;</text>\n",
       "</g>\n",
       "<!-- node140580320984960&#45;&gt;node140580460048128 -->\n",
       "<g id=\"edge1\" class=\"edge\">\n",
       "<title>node140580320984960:0&#45;&gt;node140580460048128:w</title>\n",
       "<path fill=\"none\" stroke=\"#444443\" stroke-width=\"0.5\" d=\"M14,-45C27.06,-45 29.14,-55.49 39.96,-57.62\"/>\n",
       "<polygon fill=\"#444443\" stroke=\"#444443\" stroke-width=\"0.5\" points=\"39.89,-59.02 44,-58 40.15,-56.24 39.89,-59.02\"/>\n",
       "</g>\n",
       "<!-- node140580460048064 -->\n",
       "<g id=\"node3\" class=\"node\">\n",
       "<title>node140580460048064</title>\n",
       "<polygon fill=\"#fefecd\" stroke=\"#444443\" stroke-width=\"0.5\" points=\"170,-34 36,-34 36,0 170,0 170,-34\"/>\n",
       "<polygon fill=\"#fefecd\" stroke=\"transparent\" points=\"38,-18 38,-32 77,-32 77,-18 38,-18\"/>\n",
       "<text text-anchor=\"start\" x=\"52\" y=\"-22.2\" font-family=\"Helvetica,sans-Serif\" font-size=\"11.00\" fill=\"#444443\">&#39;title&#39; </text>\n",
       "<text text-anchor=\"start\" x=\"77\" y=\"-20.8\" font-family=\"Helvetica,sans-Serif\" font-size=\"9.00\" fill=\"#444443\">→</text>\n",
       "<polygon fill=\"#fefecd\" stroke=\"transparent\" points=\"87,-18 87,-32 168,-32 168,-18 87,-18\"/>\n",
       "<text text-anchor=\"start\" x=\"88\" y=\"-22.2\" font-family=\"Helvetica,sans-Serif\" font-size=\"11.00\" fill=\"#444443\"> &#39;Startide Rising&#39;</text>\n",
       "<polygon fill=\"#fefecd\" stroke=\"transparent\" points=\"38,-16 38,-18 168,-18 168,-16 38,-16\"/>\n",
       "<polygon fill=\"#fefecd\" stroke=\"transparent\" points=\"38,-2 38,-16 77,-16 77,-2 38,-2\"/>\n",
       "<text text-anchor=\"start\" x=\"38\" y=\"-6.2\" font-family=\"Helvetica,sans-Serif\" font-size=\"11.00\" fill=\"#444443\">&#39;author&#39; </text>\n",
       "<text text-anchor=\"start\" x=\"77\" y=\"-4.8\" font-family=\"Helvetica,sans-Serif\" font-size=\"9.00\" fill=\"#444443\">→</text>\n",
       "<polygon fill=\"#fefecd\" stroke=\"transparent\" points=\"87,-2 87,-16 168,-16 168,-2 87,-2\"/>\n",
       "<text text-anchor=\"start\" x=\"88\" y=\"-6.2\" font-family=\"Helvetica,sans-Serif\" font-size=\"11.00\" fill=\"#444443\"> &#39;David Brin&#39;</text>\n",
       "</g>\n",
       "<!-- node140580320984960&#45;&gt;node140580460048064 -->\n",
       "<g id=\"edge2\" class=\"edge\">\n",
       "<title>node140580320984960:1&#45;&gt;node140580460048064:w</title>\n",
       "<path fill=\"none\" stroke=\"#444443\" stroke-width=\"0.5\" d=\"M14,-29C23.57,-29 24.71,-20.14 31.91,-17.65\"/>\n",
       "<polygon fill=\"#444443\" stroke=\"#444443\" stroke-width=\"0.5\" points=\"32.27,-19.01 36,-17 31.83,-16.24 32.27,-19.01\"/>\n",
       "</g>\n",
       "</g>\n",
       "</svg>\n"
      ],
      "text/plain": [
       "<graphviz.files.Source at 0x7fdb70610b20>"
      ]
     },
     "execution_count": 10,
     "metadata": {},
     "output_type": "execute_result"
    }
   ],
   "source": [
    "from lolviz import *\n",
    "books = [\n",
    "    {'title':'Gridlinked', 'author':'Neal Asher'},\n",
    "    {'title':'Startide Rising', 'author':'David Brin'}\n",
    "]\n",
    "objviz(books)"
   ]
  },
  {
   "cell_type": "code",
   "execution_count": 11,
   "metadata": {},
   "outputs": [
    {
     "name": "stdout",
     "output_type": "stream",
     "text": [
      "Neal Asher: Gridlinked\n",
      "David Brin: Startide Rising\n"
     ]
    }
   ],
   "source": [
    "for b in books:\n",
    "    print(f\"{b['author']}: {b['title']}\")"
   ]
  },
  {
   "cell_type": "markdown",
   "metadata": {},
   "source": [
    "Let's say we want a function that knows how to print out a book.  We could do something like the following and then just call the function in a loop:"
   ]
  },
  {
   "cell_type": "code",
   "execution_count": 12,
   "metadata": {},
   "outputs": [
    {
     "name": "stdout",
     "output_type": "stream",
     "text": [
      "Neal Asher: Gridlinked\n",
      "David Brin: Startide Rising\n"
     ]
    }
   ],
   "source": [
    "def show(b):\n",
    "    print(f\"{b['author']}: {b['title']}\")\n",
    "    \n",
    "for b in books:\n",
    "    show(b)"
   ]
  },
  {
   "cell_type": "markdown",
   "metadata": {},
   "source": [
    "There's nothing about that function that says it is related to dictionaries however or our use of them as book objects. We could try to use type information but it still is not enforced by Python and does not group the function with any particular dictionary:"
   ]
  },
  {
   "cell_type": "code",
   "execution_count": 13,
   "metadata": {},
   "outputs": [
    {
     "name": "stdout",
     "output_type": "stream",
     "text": [
      "Neal Asher: Gridlinked\n",
      "David Brin: Startide Rising\n"
     ]
    }
   ],
   "source": [
    "def show(b:dict):\n",
    "    print(f\"{b['author']}: {b['title']}\")\n",
    "    \n",
    "for b in books:\n",
    "    show(b)"
   ]
  },
  {
   "cell_type": "markdown",
   "metadata": {},
   "source": [
    "## Formal objects\n",
    "\n",
    "A better way is to formally declare that author and title data elements should be encapsulated into a single entity called a book. Python has what I consider an extremely quirky specification but it is extremely flexible. For example, we can define an object that has no methods and no fields but then can add fields dynamically with assignment statements:"
   ]
  },
  {
   "cell_type": "code",
   "execution_count": 14,
   "metadata": {},
   "outputs": [
    {
     "name": "stdout",
     "output_type": "stream",
     "text": [
      "Gridlinked Neal Asher\n"
     ]
    },
    {
     "data": {
      "image/svg+xml": [
       "<?xml version=\"1.0\" encoding=\"UTF-8\" standalone=\"no\"?>\n",
       "<!DOCTYPE svg PUBLIC \"-//W3C//DTD SVG 1.1//EN\"\n",
       " \"http://www.w3.org/Graphics/SVG/1.1/DTD/svg11.dtd\">\n",
       "<!-- Generated by graphviz version 2.47.3 (20210619.1520)\n",
       " -->\n",
       "<!-- Title: G Pages: 1 -->\n",
       "<svg width=\"111pt\" height=\"58pt\"\n",
       " viewBox=\"0.00 0.00 111.00 58.00\" xmlns=\"http://www.w3.org/2000/svg\" xmlns:xlink=\"http://www.w3.org/1999/xlink\">\n",
       "<g id=\"graph0\" class=\"graph\" transform=\"scale(1 1) rotate(0) translate(4 54)\">\n",
       "<title>G</title>\n",
       "<polygon fill=\"white\" stroke=\"transparent\" points=\"-4,4 -4,-54 107,-54 107,4 -4,4\"/>\n",
       "<!-- node140580864595424 -->\n",
       "<g id=\"node1\" class=\"node\">\n",
       "<title>node140580864595424</title>\n",
       "<polygon fill=\"#fefecd\" stroke=\"#444443\" stroke-width=\"0.5\" points=\"103,-50 0,-50 0,0 103,0 103,-50\"/>\n",
       "<polygon fill=\"#fefecd\" stroke=\"transparent\" points=\"2.5,-34 2.5,-48 101.5,-48 101.5,-34 2.5,-34\"/>\n",
       "<polyline fill=\"none\" stroke=\"#444443\" points=\"2.5,-34 101.5,-34 \"/>\n",
       "<text text-anchor=\"start\" x=\"40.5\" y=\"-38.2\" font-family=\"Times,serif\" font-style=\"italic\" font-size=\"11.00\" fill=\"#444443\">Book</text>\n",
       "<polygon fill=\"#fefecd\" stroke=\"transparent\" points=\"2.5,-32 2.5,-34 101.5,-34 101.5,-32 2.5,-32\"/>\n",
       "<polygon fill=\"#fefecd\" stroke=\"transparent\" points=\"2.5,-18 2.5,-32 38.5,-32 38.5,-18 2.5,-18\"/>\n",
       "<polyline fill=\"none\" stroke=\"#444443\" points=\"38.5,-18 38.5,-32 \"/>\n",
       "<text text-anchor=\"start\" x=\"17.5\" y=\"-22.2\" font-family=\"Helvetica,sans-Serif\" font-size=\"11.00\" fill=\"#444443\">title </text>\n",
       "<polygon fill=\"#fefecd\" stroke=\"transparent\" points=\"38.5,-18 38.5,-32 101.5,-32 101.5,-18 38.5,-18\"/>\n",
       "<text text-anchor=\"start\" x=\"39.5\" y=\"-22.2\" font-family=\"Helvetica,sans-Serif\" font-size=\"11.00\" fill=\"#444443\"> &#39;Gridlinked&#39;</text>\n",
       "<polygon fill=\"#fefecd\" stroke=\"transparent\" points=\"2.5,-16 2.5,-18 101.5,-18 101.5,-16 2.5,-16\"/>\n",
       "<polygon fill=\"#fefecd\" stroke=\"transparent\" points=\"2.5,-2 2.5,-16 38.5,-16 38.5,-2 2.5,-2\"/>\n",
       "<polyline fill=\"none\" stroke=\"#444443\" points=\"38.5,-2 38.5,-16 \"/>\n",
       "<text text-anchor=\"start\" x=\"3.5\" y=\"-6.2\" font-family=\"Helvetica,sans-Serif\" font-size=\"11.00\" fill=\"#444443\">author </text>\n",
       "<polygon fill=\"#fefecd\" stroke=\"transparent\" points=\"38.5,-2 38.5,-16 101.5,-16 101.5,-2 38.5,-2\"/>\n",
       "<text text-anchor=\"start\" x=\"39.5\" y=\"-6.2\" font-family=\"Helvetica,sans-Serif\" font-size=\"11.00\" fill=\"#444443\"> &#39;Neal Asher&#39;</text>\n",
       "</g>\n",
       "</g>\n",
       "</svg>\n"
      ],
      "text/plain": [
       "<graphviz.files.Source at 0x7fdb887f17c0>"
      ]
     },
     "execution_count": 14,
     "metadata": {},
     "output_type": "execute_result"
    }
   ],
   "source": [
    "class Book:\n",
    "    pass\n",
    "\n",
    "b = Book()\n",
    "b.title = 'Gridlinked'\n",
    "b.author = 'Neal Asher'\n",
    "print(b.title, b.author)\n",
    "objviz(b)"
   ]
  },
  {
   "cell_type": "markdown",
   "metadata": {},
   "source": [
    "Compare this to the dictionary version:"
   ]
  },
  {
   "cell_type": "code",
   "execution_count": 15,
   "metadata": {},
   "outputs": [
    {
     "data": {
      "image/svg+xml": [
       "<?xml version=\"1.0\" encoding=\"UTF-8\" standalone=\"no\"?>\n",
       "<!DOCTYPE svg PUBLIC \"-//W3C//DTD SVG 1.1//EN\"\n",
       " \"http://www.w3.org/Graphics/SVG/1.1/DTD/svg11.dtd\">\n",
       "<!-- Generated by graphviz version 2.47.3 (20210619.1520)\n",
       " -->\n",
       "<!-- Title: G Pages: 1 -->\n",
       "<svg width=\"124pt\" height=\"42pt\"\n",
       " viewBox=\"0.00 0.00 124.00 42.00\" xmlns=\"http://www.w3.org/2000/svg\" xmlns:xlink=\"http://www.w3.org/1999/xlink\">\n",
       "<g id=\"graph0\" class=\"graph\" transform=\"scale(1 1) rotate(0) translate(4 38)\">\n",
       "<title>G</title>\n",
       "<polygon fill=\"white\" stroke=\"transparent\" points=\"-4,4 -4,-38 120,-38 120,4 -4,4\"/>\n",
       "<!-- node140580864580992 -->\n",
       "<g id=\"node1\" class=\"node\">\n",
       "<title>node140580864580992</title>\n",
       "<polygon fill=\"#fefecd\" stroke=\"#444443\" stroke-width=\"0.5\" points=\"116,-34 0,-34 0,0 116,0 116,-34\"/>\n",
       "<polygon fill=\"#fefecd\" stroke=\"transparent\" points=\"2,-18 2,-32 41,-32 41,-18 2,-18\"/>\n",
       "<text text-anchor=\"start\" x=\"16\" y=\"-22.2\" font-family=\"Helvetica,sans-Serif\" font-size=\"11.00\" fill=\"#444443\">&#39;title&#39; </text>\n",
       "<text text-anchor=\"start\" x=\"41\" y=\"-20.8\" font-family=\"Helvetica,sans-Serif\" font-size=\"9.00\" fill=\"#444443\">→</text>\n",
       "<polygon fill=\"#fefecd\" stroke=\"transparent\" points=\"51,-18 51,-32 114,-32 114,-18 51,-18\"/>\n",
       "<text text-anchor=\"start\" x=\"52\" y=\"-22.2\" font-family=\"Helvetica,sans-Serif\" font-size=\"11.00\" fill=\"#444443\"> &#39;Gridlinked&#39;</text>\n",
       "<polygon fill=\"#fefecd\" stroke=\"transparent\" points=\"2,-16 2,-18 114,-18 114,-16 2,-16\"/>\n",
       "<polygon fill=\"#fefecd\" stroke=\"transparent\" points=\"2,-2 2,-16 41,-16 41,-2 2,-2\"/>\n",
       "<text text-anchor=\"start\" x=\"2\" y=\"-6.2\" font-family=\"Helvetica,sans-Serif\" font-size=\"11.00\" fill=\"#444443\">&#39;author&#39; </text>\n",
       "<text text-anchor=\"start\" x=\"41\" y=\"-4.8\" font-family=\"Helvetica,sans-Serif\" font-size=\"9.00\" fill=\"#444443\">→</text>\n",
       "<polygon fill=\"#fefecd\" stroke=\"transparent\" points=\"51,-2 51,-16 114,-16 114,-2 51,-2\"/>\n",
       "<text text-anchor=\"start\" x=\"52\" y=\"-6.2\" font-family=\"Helvetica,sans-Serif\" font-size=\"11.00\" fill=\"#444443\"> &#39;Neal Asher&#39;</text>\n",
       "</g>\n",
       "</g>\n",
       "</svg>\n"
      ],
      "text/plain": [
       "<graphviz.files.Source at 0x7fdb887e2bb0>"
      ]
     },
     "execution_count": 15,
     "metadata": {},
     "output_type": "execute_result"
    }
   ],
   "source": [
    "objviz({'title':'Gridlinked', 'author':'Neal Asher'})"
   ]
  },
  {
   "cell_type": "markdown",
   "metadata": {},
   "source": [
    "We can even hook our method into the class with an assignment and then call it using object-oriented notation instead of `show(b)`:"
   ]
  },
  {
   "cell_type": "code",
   "execution_count": 16,
   "metadata": {},
   "outputs": [
    {
     "name": "stdout",
     "output_type": "stream",
     "text": [
      "Neal Asher: Gridlinked\n",
      "Neal Asher: Gridlinked\n"
     ]
    }
   ],
   "source": [
    "def show(b):\n",
    "    print(f\"{b.author}: {b.title}\")\n",
    "\n",
    "show(b)\n",
    "Book.show = show\n",
    "b.show()"
   ]
  },
  {
   "cell_type": "markdown",
   "metadata": {},
   "source": [
    "But this doesn't let us define methods associated with that object (easily). Let's take a look at our first real class definition that contains a function called a *constructor*."
   ]
  },
  {
   "cell_type": "code",
   "execution_count": 17,
   "metadata": {},
   "outputs": [],
   "source": [
    "class Book:\n",
    "    def __init__(self, title, author):\n",
    "        self.title = title\n",
    "        self.author = author\n",
    "        self.chapters = []"
   ]
  },
  {
   "cell_type": "markdown",
   "metadata": {},
   "source": [
    "The constructor typically sets initial and default field values based upon the arguments.\n",
    "\n",
    "All methods, functions defined within an object, must have an explicit first argument called `self`.  This is the object under consideration.\n",
    "\n",
    "Then we can make a list of book objects or instances of class `Book` using instance creation syntax `Book(...,...)`:"
   ]
  },
  {
   "cell_type": "code",
   "execution_count": 18,
   "metadata": {},
   "outputs": [],
   "source": [
    "b = Book('Gridlinked', 'Neal Asher')"
   ]
  },
  {
   "cell_type": "code",
   "execution_count": 19,
   "metadata": {},
   "outputs": [
    {
     "data": {
      "image/svg+xml": [
       "<?xml version=\"1.0\" encoding=\"UTF-8\" standalone=\"no\"?>\n",
       "<!DOCTYPE svg PUBLIC \"-//W3C//DTD SVG 1.1//EN\"\n",
       " \"http://www.w3.org/Graphics/SVG/1.1/DTD/svg11.dtd\">\n",
       "<!-- Generated by graphviz version 2.47.3 (20210619.1520)\n",
       " -->\n",
       "<!-- Title: G Pages: 1 -->\n",
       "<svg width=\"236pt\" height=\"147pt\"\n",
       " viewBox=\"0.00 0.00 236.00 147.00\" xmlns=\"http://www.w3.org/2000/svg\" xmlns:xlink=\"http://www.w3.org/1999/xlink\">\n",
       "<g id=\"graph0\" class=\"graph\" transform=\"scale(1 1) rotate(0) translate(4 143)\">\n",
       "<title>G</title>\n",
       "<polygon fill=\"white\" stroke=\"transparent\" points=\"-4,4 -4,-143 232,-143 232,4 -4,4\"/>\n",
       "<!-- node140580460047296 -->\n",
       "<g id=\"node1\" class=\"node\">\n",
       "<title>node140580460047296</title>\n",
       "<polygon fill=\"#cfe2d4\" stroke=\"#444443\" stroke-width=\"0.5\" points=\"14,-86 0,-86 0,-52 14,-52 14,-86\"/>\n",
       "<polygon fill=\"#cfe2d4\" stroke=\"transparent\" points=\"1,-69 1,-85 13,-85 13,-69 1,-69\"/>\n",
       "<polyline fill=\"none\" stroke=\"#444443\" points=\"1,-69 13,-69 \"/>\n",
       "<text text-anchor=\"start\" x=\"4\" y=\"-74.8\" font-family=\"Helvetica,sans-Serif\" font-size=\"9.00\" fill=\"#444443\">0</text>\n",
       "<polygon fill=\"#cfe2d4\" stroke=\"transparent\" points=\"1,-53 1,-69 13,-69 13,-53 1,-53\"/>\n",
       "<text text-anchor=\"start\" x=\"4\" y=\"-58.8\" font-family=\"Helvetica,sans-Serif\" font-size=\"9.00\" fill=\"#444443\">1</text>\n",
       "</g>\n",
       "<!-- node140580864595040 -->\n",
       "<g id=\"node2\" class=\"node\">\n",
       "<title>node140580864595040</title>\n",
       "<polygon fill=\"#fefecd\" stroke=\"#444443\" stroke-width=\"0.5\" points=\"159,-139 45,-139 45,-73 159,-73 159,-139\"/>\n",
       "<polygon fill=\"#fefecd\" stroke=\"transparent\" points=\"47,-123 47,-137 157,-137 157,-123 47,-123\"/>\n",
       "<polyline fill=\"none\" stroke=\"#444443\" points=\"47,-123 157,-123 \"/>\n",
       "<text text-anchor=\"start\" x=\"90.5\" y=\"-127.2\" font-family=\"Times,serif\" font-style=\"italic\" font-size=\"11.00\" fill=\"#444443\">Book</text>\n",
       "<polygon fill=\"#fefecd\" stroke=\"transparent\" points=\"47,-121 47,-123 157,-123 157,-121 47,-121\"/>\n",
       "<polygon fill=\"#fefecd\" stroke=\"transparent\" points=\"47,-107 47,-121 94,-121 94,-107 47,-107\"/>\n",
       "<polyline fill=\"none\" stroke=\"#444443\" points=\"94,-107 94,-121 \"/>\n",
       "<text text-anchor=\"start\" x=\"73\" y=\"-111.2\" font-family=\"Helvetica,sans-Serif\" font-size=\"11.00\" fill=\"#444443\">title </text>\n",
       "<polygon fill=\"#fefecd\" stroke=\"transparent\" points=\"94,-107 94,-121 157,-121 157,-107 94,-107\"/>\n",
       "<text text-anchor=\"start\" x=\"95\" y=\"-111.2\" font-family=\"Helvetica,sans-Serif\" font-size=\"11.00\" fill=\"#444443\"> &#39;Gridlinked&#39;</text>\n",
       "<polygon fill=\"#fefecd\" stroke=\"transparent\" points=\"47,-105 47,-107 157,-107 157,-105 47,-105\"/>\n",
       "<polygon fill=\"#fefecd\" stroke=\"transparent\" points=\"47,-91 47,-105 94,-105 94,-91 47,-91\"/>\n",
       "<polyline fill=\"none\" stroke=\"#444443\" points=\"94,-91 94,-105 \"/>\n",
       "<text text-anchor=\"start\" x=\"59\" y=\"-95.2\" font-family=\"Helvetica,sans-Serif\" font-size=\"11.00\" fill=\"#444443\">author </text>\n",
       "<polygon fill=\"#fefecd\" stroke=\"transparent\" points=\"94,-91 94,-105 157,-105 157,-91 94,-91\"/>\n",
       "<text text-anchor=\"start\" x=\"95\" y=\"-95.2\" font-family=\"Helvetica,sans-Serif\" font-size=\"11.00\" fill=\"#444443\"> &#39;Neal Asher&#39;</text>\n",
       "<polygon fill=\"#fefecd\" stroke=\"transparent\" points=\"47,-89 47,-91 157,-91 157,-89 47,-89\"/>\n",
       "<polygon fill=\"#fefecd\" stroke=\"transparent\" points=\"47,-75 47,-89 94,-89 94,-75 47,-75\"/>\n",
       "<polyline fill=\"none\" stroke=\"#444443\" points=\"94,-75 94,-89 \"/>\n",
       "<text text-anchor=\"start\" x=\"48\" y=\"-79.2\" font-family=\"Helvetica,sans-Serif\" font-size=\"11.00\" fill=\"#444443\">chapters </text>\n",
       "<polygon fill=\"#fefecd\" stroke=\"transparent\" points=\"94,-75 94,-89 157,-89 157,-75 94,-75\"/>\n",
       "<text text-anchor=\"start\" x=\"95\" y=\"-79.2\" font-family=\"Helvetica,sans-Serif\" font-size=\"11.00\" fill=\"#444443\"> &#160;&#160;&#160;</text>\n",
       "</g>\n",
       "<!-- node140580460047296&#45;&gt;node140580864595040 -->\n",
       "<g id=\"edge1\" class=\"edge\">\n",
       "<title>node140580460047296:0&#45;&gt;node140580864595040:w</title>\n",
       "<path fill=\"none\" stroke=\"#444443\" stroke-width=\"0.5\" d=\"M14,-77C30.95,-77 26.48,-101.23 39.75,-105.39\"/>\n",
       "<polygon fill=\"#444443\" stroke=\"#444443\" stroke-width=\"0.5\" points=\"39.84,-106.82 44,-106 40.24,-104.05 39.84,-106.82\"/>\n",
       "</g>\n",
       "<!-- node140580864596432 -->\n",
       "<g id=\"node4\" class=\"node\">\n",
       "<title>node140580864596432</title>\n",
       "<polygon fill=\"#fefecd\" stroke=\"#444443\" stroke-width=\"0.5\" points=\"168,-66 36,-66 36,0 168,0 168,-66\"/>\n",
       "<polygon fill=\"#fefecd\" stroke=\"transparent\" points=\"38,-50 38,-64 166,-64 166,-50 38,-50\"/>\n",
       "<polyline fill=\"none\" stroke=\"#444443\" points=\"38,-50 166,-50 \"/>\n",
       "<text text-anchor=\"start\" x=\"90.5\" y=\"-54.2\" font-family=\"Times,serif\" font-style=\"italic\" font-size=\"11.00\" fill=\"#444443\">Book</text>\n",
       "<polygon fill=\"#fefecd\" stroke=\"transparent\" points=\"38,-48 38,-50 166,-50 166,-48 38,-48\"/>\n",
       "<polygon fill=\"#fefecd\" stroke=\"transparent\" points=\"38,-34 38,-48 85,-48 85,-34 38,-34\"/>\n",
       "<polyline fill=\"none\" stroke=\"#444443\" points=\"85,-34 85,-48 \"/>\n",
       "<text text-anchor=\"start\" x=\"64\" y=\"-38.2\" font-family=\"Helvetica,sans-Serif\" font-size=\"11.00\" fill=\"#444443\">title </text>\n",
       "<polygon fill=\"#fefecd\" stroke=\"transparent\" points=\"85,-34 85,-48 166,-48 166,-34 85,-34\"/>\n",
       "<text text-anchor=\"start\" x=\"86\" y=\"-38.2\" font-family=\"Helvetica,sans-Serif\" font-size=\"11.00\" fill=\"#444443\"> &#39;David Brin&#39;</text>\n",
       "<polygon fill=\"#fefecd\" stroke=\"transparent\" points=\"38,-32 38,-34 166,-34 166,-32 38,-32\"/>\n",
       "<polygon fill=\"#fefecd\" stroke=\"transparent\" points=\"38,-18 38,-32 85,-32 85,-18 38,-18\"/>\n",
       "<polyline fill=\"none\" stroke=\"#444443\" points=\"85,-18 85,-32 \"/>\n",
       "<text text-anchor=\"start\" x=\"50\" y=\"-22.2\" font-family=\"Helvetica,sans-Serif\" font-size=\"11.00\" fill=\"#444443\">author </text>\n",
       "<polygon fill=\"#fefecd\" stroke=\"transparent\" points=\"85,-18 85,-32 166,-32 166,-18 85,-18\"/>\n",
       "<text text-anchor=\"start\" x=\"86\" y=\"-22.2\" font-family=\"Helvetica,sans-Serif\" font-size=\"11.00\" fill=\"#444443\"> &#39;Startide Rising&#39;</text>\n",
       "<polygon fill=\"#fefecd\" stroke=\"transparent\" points=\"38,-16 38,-18 166,-18 166,-16 38,-16\"/>\n",
       "<polygon fill=\"#fefecd\" stroke=\"transparent\" points=\"38,-2 38,-16 85,-16 85,-2 38,-2\"/>\n",
       "<polyline fill=\"none\" stroke=\"#444443\" points=\"85,-2 85,-16 \"/>\n",
       "<text text-anchor=\"start\" x=\"39\" y=\"-6.2\" font-family=\"Helvetica,sans-Serif\" font-size=\"11.00\" fill=\"#444443\">chapters </text>\n",
       "<polygon fill=\"#fefecd\" stroke=\"transparent\" points=\"85,-2 85,-16 166,-16 166,-2 85,-2\"/>\n",
       "<text text-anchor=\"start\" x=\"86\" y=\"-6.2\" font-family=\"Helvetica,sans-Serif\" font-size=\"11.00\" fill=\"#444443\"> &#160;&#160;&#160;</text>\n",
       "</g>\n",
       "<!-- node140580460047296&#45;&gt;node140580864596432 -->\n",
       "<g id=\"edge2\" class=\"edge\">\n",
       "<title>node140580460047296:1&#45;&gt;node140580864596432:w</title>\n",
       "<path fill=\"none\" stroke=\"#444443\" stroke-width=\"0.5\" d=\"M14,-61C28.22,-61 21.87,-38.4 31.91,-33.81\"/>\n",
       "<polygon fill=\"#444443\" stroke=\"#444443\" stroke-width=\"0.5\" points=\"32.35,-35.15 36,-33 31.8,-32.4 32.35,-35.15\"/>\n",
       "</g>\n",
       "<!-- node140580862588992 -->\n",
       "<g id=\"node3\" class=\"node\">\n",
       "<title>node140580862588992</title>\n",
       "<text text-anchor=\"start\" x=\"192\" y=\"-79.8\" font-family=\"Times,serif\" font-style=\"italic\" font-size=\"9.00\" fill=\"#444443\">empty list</text>\n",
       "</g>\n",
       "<!-- node140580864595040&#45;&gt;node140580862588992 -->\n",
       "<g id=\"edge3\" class=\"edge\">\n",
       "<title>node140580864595040:c&#45;&gt;node140580862588992</title>\n",
       "<path fill=\"none\" stroke=\"#444443\" stroke-width=\"0.5\" d=\"M130.44,-82C139.73,-82 165.95,-82 185.35,-82\"/>\n",
       "<ellipse fill=\"#444443\" stroke=\"#444443\" stroke-width=\"0.5\" cx=\"128.6\" cy=\"-82\" rx=\"1.6\" ry=\"1.6\"/>\n",
       "<polygon fill=\"#444443\" stroke=\"#444443\" stroke-width=\"0.5\" points=\"185.62,-83.4 189.62,-82 185.62,-80.6 185.62,-83.4\"/>\n",
       "</g>\n",
       "<!-- node140580459878016 -->\n",
       "<g id=\"node5\" class=\"node\">\n",
       "<title>node140580459878016</title>\n",
       "<text text-anchor=\"start\" x=\"192\" y=\"-6.8\" font-family=\"Times,serif\" font-style=\"italic\" font-size=\"9.00\" fill=\"#444443\">empty list</text>\n",
       "</g>\n",
       "<!-- node140580864596432&#45;&gt;node140580459878016 -->\n",
       "<g id=\"edge4\" class=\"edge\">\n",
       "<title>node140580864596432:c&#45;&gt;node140580459878016</title>\n",
       "<path fill=\"none\" stroke=\"#444443\" stroke-width=\"0.5\" d=\"M130.44,-9C139.73,-9 165.95,-9 185.35,-9\"/>\n",
       "<ellipse fill=\"#444443\" stroke=\"#444443\" stroke-width=\"0.5\" cx=\"128.6\" cy=\"-9\" rx=\"1.6\" ry=\"1.6\"/>\n",
       "<polygon fill=\"#444443\" stroke=\"#444443\" stroke-width=\"0.5\" points=\"185.62,-10.4 189.62,-9 185.62,-7.6 185.62,-10.4\"/>\n",
       "</g>\n",
       "</g>\n",
       "</svg>\n"
      ],
      "text/plain": [
       "<graphviz.files.Source at 0x7fdb887f13d0>"
      ]
     },
     "execution_count": 19,
     "metadata": {},
     "output_type": "execute_result"
    }
   ],
   "source": [
    "books = [\n",
    "    Book('Gridlinked', 'Neal Asher'),\n",
    "    Book(title='David Brin', author='Startide Rising')\n",
    "]\n",
    "\n",
    "objviz(books)"
   ]
  },
  {
   "cell_type": "code",
   "execution_count": 20,
   "metadata": {},
   "outputs": [
    {
     "name": "stdout",
     "output_type": "stream",
     "text": [
      "Neal Asher: Gridlinked\n",
      "Startide Rising: David Brin\n"
     ]
    }
   ],
   "source": [
    "for b in books:\n",
    "    print(f\"{b.author}: {b.title}\") # access fields"
   ]
  },
  {
   "cell_type": "markdown",
   "metadata": {},
   "source": [
    "Notice that we do not pass the `self` parameter to the constructor. **It's implicit at the call site but explicit at the definition site!**"
   ]
  },
  {
   "cell_type": "markdown",
   "metadata": {},
   "source": [
    "## Naughty behavior\n",
    "\n",
    "Also notice that we have been setting fields of objects using the constructor, by Python in its infinite flexibility allows you to do very **naughty** things such as setting fields on arbitrary objects:"
   ]
  },
  {
   "cell_type": "code",
   "execution_count": 21,
   "metadata": {},
   "outputs": [],
   "source": [
    "class Foo:\n",
    "    pass # just says \"empty\"\n",
    "\n",
    "x = Foo()\n",
    "x.foo = 3"
   ]
  },
  {
   "cell_type": "markdown",
   "metadata": {},
   "source": [
    "That does not get an error even though the class itself does not define foo!\n",
    "\n",
    "You can even [add methods on the fly](https://stackoverflow.com/questions/972/adding-a-method-to-an-existing-object-instance)."
   ]
  },
  {
   "cell_type": "markdown",
   "metadata": {},
   "source": [
    "# Defining methods"
   ]
  },
  {
   "cell_type": "markdown",
   "metadata": {},
   "source": [
    "If you try to print out a book you will see just the type information and the physical memory address:"
   ]
  },
  {
   "cell_type": "code",
   "execution_count": 22,
   "metadata": {},
   "outputs": [
    {
     "name": "stdout",
     "output_type": "stream",
     "text": [
      "<__main__.Book object at 0x7fdb887f1460>\n"
     ]
    }
   ],
   "source": [
    "print(books[0])"
   ]
  },
  {
   "cell_type": "code",
   "execution_count": 23,
   "metadata": {},
   "outputs": [],
   "source": [
    "class Book:\n",
    "    def __init__(self, title, author):\n",
    "        self.title = title\n",
    "        self.author = author\n",
    "        \n",
    "    def __str__(self): # called when conversion to string needed like print\n",
    "        return f\"Book({self.title}, {self.author})\"\n",
    "    \n",
    "    def __repr__(self): # called in interactive mode\n",
    "        return self.__str__() # call the string\n",
    "    \n",
    "books = [\n",
    "    Book('Gridlinked', 'Neal Asher'),\n",
    "    Book('Startide Rising', 'David Brin')\n",
    "]"
   ]
  },
  {
   "cell_type": "code",
   "execution_count": 24,
   "metadata": {},
   "outputs": [
    {
     "name": "stdout",
     "output_type": "stream",
     "text": [
      "Book(Gridlinked, Neal Asher)\n"
     ]
    }
   ],
   "source": [
    "print(books[0]) # calls __str__()"
   ]
  },
  {
   "cell_type": "code",
   "execution_count": 25,
   "metadata": {},
   "outputs": [
    {
     "data": {
      "text/plain": [
       "Book(Gridlinked, Neal Asher)"
      ]
     },
     "execution_count": 25,
     "metadata": {},
     "output_type": "execute_result"
    }
   ],
   "source": [
    "books[0]        # calls __repr__()"
   ]
  },
  {
   "cell_type": "markdown",
   "metadata": {},
   "source": [
    "Make sure that you use `self.x` to refer to field `x`, otherwise you are creating a local variable inside a method:"
   ]
  },
  {
   "cell_type": "code",
   "execution_count": 26,
   "metadata": {},
   "outputs": [],
   "source": [
    "class Foo:\n",
    "    def __init__(self):\n",
    "        self.x = 0\n",
    "    def foo(self):\n",
    "        x = 3 # WARNING: does not alter the field! should be self.x"
   ]
  },
  {
   "cell_type": "markdown",
   "metadata": {},
   "source": [
    "Let's create another method that sets the count of book sold."
   ]
  },
  {
   "cell_type": "code",
   "execution_count": 27,
   "metadata": {},
   "outputs": [],
   "source": [
    "class Book:\n",
    "    def __init__(self, title, author):\n",
    "        self.title = title\n",
    "        self.author = author\n",
    "        self.sold = 0 # set default\n",
    "        \n",
    "    def sell(self, n):\n",
    "        self.sold += n\n",
    "        \n",
    "    def __str__(self): # called when conversion to string needed like print\n",
    "        return f\"Book({self.title}, {self.author}, sold={self.sold})\"\n",
    "    \n",
    "    def __repr__(self): # called in interactive mode\n",
    "        return self.__str__() # call the string"
   ]
  },
  {
   "cell_type": "code",
   "execution_count": 28,
   "metadata": {},
   "outputs": [
    {
     "name": "stdout",
     "output_type": "stream",
     "text": [
      "Book(Gridlinked, Neal Asher, sold=0)\n",
      "Book(Gridlinked, Neal Asher, sold=100)\n"
     ]
    }
   ],
   "source": [
    "b = Book('Gridlinked', 'Neal Asher')\n",
    "print(b)\n",
    "b.sell(100) # Book.sell(b, 100)\n",
    "print(b)"
   ]
  },
  {
   "cell_type": "markdown",
   "metadata": {},
   "source": [
    "**Note**: that from *within* a method definition, we call other methods on the same object using `self.foo(...)` for method `foo`."
   ]
  },
  {
   "cell_type": "markdown",
   "metadata": {},
   "source": [
    "## The key to understanding methods versus functions\n",
    "\n",
    "`b.sell(100)` **method call** is translated and executed by the Python interpreter as **function call** `Book.sell(b,100)`. `b` becomes parameter `self` and so the `sell()` function is updating book `b`.\n",
    "\n",
    "Why we prefer `b.sell(100)` over `Book.sell(b,100)`: Instead of just functions, we send messages back and forth between objects. Instead of bark(dog) we say dog.bark() or instead of inflate(ball) we say ball.inflate()."
   ]
  },
  {
   "cell_type": "markdown",
   "metadata": {},
   "source": [
    "## Exercise"
   ]
  },
  {
   "cell_type": "markdown",
   "metadata": {},
   "source": [
    "Real-world objects contain ... and ...\n",
    "\n",
    "A software object's state is stored in ...\n",
    "\n",
    "A software object's behavior is exposed through ...\n",
    "\n",
    "A blueprint for a software object is called a ..."
   ]
  },
  {
   "cell_type": "markdown",
   "metadata": {},
   "source": [
    "## Exercise"
   ]
  },
  {
   "cell_type": "markdown",
   "metadata": {},
   "source": [
    "Define a class called `Point` that has a constructor taking x, y coordinates and make them fields of the class.\n",
    "\n",
    "Define method `distance(q)` that takes a `Point` and returns the Euclidean distance  from `self` to `q`.\n",
    "\n",
    "Test with\n",
    "\n",
    "```\n",
    "p = Point(3,4)\n",
    "q = Point(5,6)\n",
    "print(p.distance(q))\n",
    "```\n",
    "\n",
    "Add method `__str__` so that `print(q)` prints something nice like `(3,4)`."
   ]
  },
  {
   "cell_type": "markdown",
   "metadata": {},
   "source": [
    "### Solution"
   ]
  },
  {
   "cell_type": "code",
   "execution_count": 29,
   "metadata": {},
   "outputs": [],
   "source": [
    "import numpy as np\n",
    "\n",
    "class Point:\n",
    "    def __init__(self, x, y):\n",
    "        self.x = x\n",
    "        self.y = y\n",
    "        \n",
    "    def distance(self, other):\n",
    "        return np.sqrt( (self.x - other.x)**2 + (self.y - other.y)**2 )\n",
    "    \n",
    "    def __str__(self):\n",
    "        return f\"({self.x},{self.y})\""
   ]
  },
  {
   "cell_type": "code",
   "execution_count": 30,
   "metadata": {},
   "outputs": [
    {
     "name": "stdout",
     "output_type": "stream",
     "text": [
      "(3,4) (5,6)\n",
      "2.8284271247461903\n"
     ]
    }
   ],
   "source": [
    "p = Point(3,4)\n",
    "q = Point(5,6)\n",
    "print(p, q)\n",
    "print(p.distance(q))"
   ]
  },
  {
   "cell_type": "markdown",
   "metadata": {},
   "source": [
    "# Inheritance"
   ]
  },
  {
   "cell_type": "markdown",
   "metadata": {},
   "source": [
    "Defining something new as it relates to something we already understand is usually a lot easier. The same thing is true in programming. Let's start with an account object:"
   ]
  },
  {
   "cell_type": "code",
   "execution_count": 31,
   "metadata": {
    "tags": []
   },
   "outputs": [],
   "source": [
    "class Account:\n",
    "    def __init__(self, starting):\n",
    "        self.balance = starting\n",
    "\n",
    "    def add(self, value):\n",
    "        self.balance += value\n",
    "\n",
    "    def total(self):\n",
    "        return self.balance"
   ]
  },
  {
   "cell_type": "code",
   "execution_count": 32,
   "metadata": {},
   "outputs": [
    {
     "data": {
      "text/plain": [
       "115.0"
      ]
     },
     "execution_count": 32,
     "metadata": {},
     "output_type": "execute_result"
    }
   ],
   "source": [
    "a = Account(100.0)\n",
    "a.add(15)\n",
    "a.total()"
   ]
  },
  {
   "cell_type": "code",
   "execution_count": 33,
   "metadata": {},
   "outputs": [
    {
     "data": {
      "image/svg+xml": [
       "<?xml version=\"1.0\" encoding=\"UTF-8\" standalone=\"no\"?>\n",
       "<!DOCTYPE svg PUBLIC \"-//W3C//DTD SVG 1.1//EN\"\n",
       " \"http://www.w3.org/Graphics/SVG/1.1/DTD/svg11.dtd\">\n",
       "<!-- Generated by graphviz version 2.47.3 (20210619.1520)\n",
       " -->\n",
       "<!-- Title: G Pages: 1 -->\n",
       "<svg width=\"88pt\" height=\"42pt\"\n",
       " viewBox=\"0.00 0.00 88.00 42.00\" xmlns=\"http://www.w3.org/2000/svg\" xmlns:xlink=\"http://www.w3.org/1999/xlink\">\n",
       "<g id=\"graph0\" class=\"graph\" transform=\"scale(1 1) rotate(0) translate(4 38)\">\n",
       "<title>G</title>\n",
       "<polygon fill=\"white\" stroke=\"transparent\" points=\"-4,4 -4,-38 84,-38 84,4 -4,4\"/>\n",
       "<!-- node140580864701536 -->\n",
       "<g id=\"node1\" class=\"node\">\n",
       "<title>node140580864701536</title>\n",
       "<polygon fill=\"#fefecd\" stroke=\"#444443\" stroke-width=\"0.5\" points=\"80,-34 0,-34 0,0 80,0 80,-34\"/>\n",
       "<polygon fill=\"#fefecd\" stroke=\"transparent\" points=\"2,-18 2,-32 78,-32 78,-18 2,-18\"/>\n",
       "<polyline fill=\"none\" stroke=\"#444443\" points=\"2,-18 78,-18 \"/>\n",
       "<text text-anchor=\"start\" x=\"21.5\" y=\"-22.2\" font-family=\"Times,serif\" font-style=\"italic\" font-size=\"11.00\" fill=\"#444443\">Account</text>\n",
       "<polygon fill=\"#fefecd\" stroke=\"transparent\" points=\"2,-16 2,-18 78,-18 78,-16 2,-16\"/>\n",
       "<polygon fill=\"#fefecd\" stroke=\"transparent\" points=\"2,-2 2,-16 45,-16 45,-2 2,-2\"/>\n",
       "<polyline fill=\"none\" stroke=\"#444443\" points=\"45,-2 45,-16 \"/>\n",
       "<text text-anchor=\"start\" x=\"3\" y=\"-6.2\" font-family=\"Helvetica,sans-Serif\" font-size=\"11.00\" fill=\"#444443\">balance </text>\n",
       "<polygon fill=\"#fefecd\" stroke=\"transparent\" points=\"45,-2 45,-16 78,-16 78,-2 45,-2\"/>\n",
       "<text text-anchor=\"start\" x=\"46\" y=\"-6.2\" font-family=\"Helvetica,sans-Serif\" font-size=\"11.00\" fill=\"#444443\"> 115.0</text>\n",
       "</g>\n",
       "</g>\n",
       "</svg>\n"
      ],
      "text/plain": [
       "<graphviz.files.Source at 0x7fdb88812460>"
      ]
     },
     "execution_count": 33,
     "metadata": {},
     "output_type": "execute_result"
    }
   ],
   "source": [
    "objviz(a)"
   ]
  },
  {
   "cell_type": "markdown",
   "metadata": {},
   "source": [
    "Inheritance behaves like an `import` or include operation from another class into a new class. (*Note that this is not really true, but we can think of it as an include for our purposes.*)\n",
    "\n",
    "If we do not specify a superclass, class `object` is the implicit superclass.  That class is called the root of the class hierarchy and defines a number of standard methods:"
   ]
  },
  {
   "cell_type": "code",
   "execution_count": 34,
   "metadata": {},
   "outputs": [
    {
     "name": "stdout",
     "output_type": "stream",
     "text": [
      "['__class__', '__delattr__', '__dir__', '__doc__', '__eq__', '__format__', '__ge__', '__getattribute__', '__gt__', '__hash__', '__init__', '__init_subclass__', '__le__', '__lt__', '__ne__', '__new__', '__reduce__', '__reduce_ex__', '__repr__', '__setattr__', '__sizeof__', '__str__', '__subclasshook__']\n"
     ]
    }
   ],
   "source": [
    "x = object() # yes, we can make a generic object\n",
    "print(dir(x))"
   ]
  },
  {
   "cell_type": "markdown",
   "metadata": {},
   "source": [
    "We could define an interest-bearing account as it differs from a regular account.  Let's start by just adding a new field:"
   ]
  },
  {
   "cell_type": "code",
   "execution_count": 35,
   "metadata": {},
   "outputs": [
    {
     "data": {
      "image/svg+xml": [
       "<?xml version=\"1.0\" encoding=\"UTF-8\" standalone=\"no\"?>\n",
       "<!DOCTYPE svg PUBLIC \"-//W3C//DTD SVG 1.1//EN\"\n",
       " \"http://www.w3.org/Graphics/SVG/1.1/DTD/svg11.dtd\">\n",
       "<!-- Generated by graphviz version 2.47.3 (20210619.1520)\n",
       " -->\n",
       "<!-- Title: G Pages: 1 -->\n",
       "<svg width=\"97pt\" height=\"58pt\"\n",
       " viewBox=\"0.00 0.00 97.00 58.00\" xmlns=\"http://www.w3.org/2000/svg\" xmlns:xlink=\"http://www.w3.org/1999/xlink\">\n",
       "<g id=\"graph0\" class=\"graph\" transform=\"scale(1 1) rotate(0) translate(4 54)\">\n",
       "<title>G</title>\n",
       "<polygon fill=\"white\" stroke=\"transparent\" points=\"-4,4 -4,-54 93,-54 93,4 -4,4\"/>\n",
       "<!-- node140580864767936 -->\n",
       "<g id=\"node1\" class=\"node\">\n",
       "<title>node140580864767936</title>\n",
       "<polygon fill=\"#fefecd\" stroke=\"#444443\" stroke-width=\"0.5\" points=\"89,-50 0,-50 0,0 89,0 89,-50\"/>\n",
       "<polygon fill=\"#fefecd\" stroke=\"transparent\" points=\"2.5,-34 2.5,-48 87.5,-48 87.5,-34 2.5,-34\"/>\n",
       "<polyline fill=\"none\" stroke=\"#444443\" points=\"2.5,-34 87.5,-34 \"/>\n",
       "<text text-anchor=\"start\" x=\"3.5\" y=\"-38.2\" font-family=\"Times,serif\" font-style=\"italic\" font-size=\"11.00\" fill=\"#444443\">InterestingAccount</text>\n",
       "<polygon fill=\"#fefecd\" stroke=\"transparent\" points=\"2.5,-32 2.5,-34 87.5,-34 87.5,-32 2.5,-32\"/>\n",
       "<polygon fill=\"#fefecd\" stroke=\"transparent\" points=\"2.5,-18 2.5,-32 49.5,-32 49.5,-18 2.5,-18\"/>\n",
       "<polyline fill=\"none\" stroke=\"#444443\" points=\"49.5,-18 49.5,-32 \"/>\n",
       "<text text-anchor=\"start\" x=\"7.5\" y=\"-22.2\" font-family=\"Helvetica,sans-Serif\" font-size=\"11.00\" fill=\"#444443\">balance </text>\n",
       "<polygon fill=\"#fefecd\" stroke=\"transparent\" points=\"51.5,-18 51.5,-32 87.5,-32 87.5,-18 51.5,-18\"/>\n",
       "<text text-anchor=\"start\" x=\"52.5\" y=\"-22.2\" font-family=\"Helvetica,sans-Serif\" font-size=\"11.00\" fill=\"#444443\"> 100.0</text>\n",
       "<polygon fill=\"#fefecd\" stroke=\"transparent\" points=\"2.5,-16 2.5,-18 87.5,-18 87.5,-16 2.5,-16\"/>\n",
       "<polygon fill=\"#fefecd\" stroke=\"transparent\" points=\"2.5,-2 2.5,-16 49.5,-16 49.5,-2 2.5,-2\"/>\n",
       "<polyline fill=\"none\" stroke=\"#444443\" points=\"49.5,-2 49.5,-16 \"/>\n",
       "<text text-anchor=\"start\" x=\"26.5\" y=\"-6.2\" font-family=\"Helvetica,sans-Serif\" font-size=\"11.00\" fill=\"#444443\">rate </text>\n",
       "<polygon fill=\"#fefecd\" stroke=\"transparent\" points=\"51.5,-2 51.5,-16 87.5,-16 87.5,-2 51.5,-2\"/>\n",
       "<text text-anchor=\"start\" x=\"52.5\" y=\"-6.2\" font-family=\"Helvetica,sans-Serif\" font-size=\"11.00\" fill=\"#444443\"> 0.15</text>\n",
       "</g>\n",
       "</g>\n",
       "</svg>\n"
      ],
      "text/plain": [
       "<graphviz.files.Source at 0x7fdb8881b820>"
      ]
     },
     "execution_count": 35,
     "metadata": {},
     "output_type": "execute_result"
    }
   ],
   "source": [
    "class InterestingAccount(Account):\n",
    "    def __init__(self, starting, rate):\n",
    "        self.balance = starting\n",
    "        self.rate = rate\n",
    "\n",
    "b = InterestingAccount(100.0, 0.15)\n",
    "objviz(b)"
   ]
  },
  {
   "cell_type": "code",
   "execution_count": 36,
   "metadata": {},
   "outputs": [],
   "source": [
    "class InterestingAccount(Account):\n",
    "    def __init__(self, starting, rate):\n",
    "        super().__init__(starting)\n",
    "        self.rate = rate\n",
    "\n",
    "b = InterestingAccount(100.0, 0.15)"
   ]
  },
  {
   "cell_type": "code",
   "execution_count": 37,
   "metadata": {},
   "outputs": [
    {
     "data": {
      "image/svg+xml": [
       "<?xml version=\"1.0\" encoding=\"UTF-8\" standalone=\"no\"?>\n",
       "<!DOCTYPE svg PUBLIC \"-//W3C//DTD SVG 1.1//EN\"\n",
       " \"http://www.w3.org/Graphics/SVG/1.1/DTD/svg11.dtd\">\n",
       "<!-- Generated by graphviz version 2.47.3 (20210619.1520)\n",
       " -->\n",
       "<!-- Title: G Pages: 1 -->\n",
       "<svg width=\"97pt\" height=\"58pt\"\n",
       " viewBox=\"0.00 0.00 97.00 58.00\" xmlns=\"http://www.w3.org/2000/svg\" xmlns:xlink=\"http://www.w3.org/1999/xlink\">\n",
       "<g id=\"graph0\" class=\"graph\" transform=\"scale(1 1) rotate(0) translate(4 54)\">\n",
       "<title>G</title>\n",
       "<polygon fill=\"white\" stroke=\"transparent\" points=\"-4,4 -4,-54 93,-54 93,4 -4,4\"/>\n",
       "<!-- node140580864767744 -->\n",
       "<g id=\"node1\" class=\"node\">\n",
       "<title>node140580864767744</title>\n",
       "<polygon fill=\"#fefecd\" stroke=\"#444443\" stroke-width=\"0.5\" points=\"89,-50 0,-50 0,0 89,0 89,-50\"/>\n",
       "<polygon fill=\"#fefecd\" stroke=\"transparent\" points=\"2.5,-34 2.5,-48 87.5,-48 87.5,-34 2.5,-34\"/>\n",
       "<polyline fill=\"none\" stroke=\"#444443\" points=\"2.5,-34 87.5,-34 \"/>\n",
       "<text text-anchor=\"start\" x=\"3.5\" y=\"-38.2\" font-family=\"Times,serif\" font-style=\"italic\" font-size=\"11.00\" fill=\"#444443\">InterestingAccount</text>\n",
       "<polygon fill=\"#fefecd\" stroke=\"transparent\" points=\"2.5,-32 2.5,-34 87.5,-34 87.5,-32 2.5,-32\"/>\n",
       "<polygon fill=\"#fefecd\" stroke=\"transparent\" points=\"2.5,-18 2.5,-32 49.5,-32 49.5,-18 2.5,-18\"/>\n",
       "<polyline fill=\"none\" stroke=\"#444443\" points=\"49.5,-18 49.5,-32 \"/>\n",
       "<text text-anchor=\"start\" x=\"7.5\" y=\"-22.2\" font-family=\"Helvetica,sans-Serif\" font-size=\"11.00\" fill=\"#444443\">balance </text>\n",
       "<polygon fill=\"#fefecd\" stroke=\"transparent\" points=\"51.5,-18 51.5,-32 87.5,-32 87.5,-18 51.5,-18\"/>\n",
       "<text text-anchor=\"start\" x=\"52.5\" y=\"-22.2\" font-family=\"Helvetica,sans-Serif\" font-size=\"11.00\" fill=\"#444443\"> 100.0</text>\n",
       "<polygon fill=\"#fefecd\" stroke=\"transparent\" points=\"2.5,-16 2.5,-18 87.5,-18 87.5,-16 2.5,-16\"/>\n",
       "<polygon fill=\"#fefecd\" stroke=\"transparent\" points=\"2.5,-2 2.5,-16 49.5,-16 49.5,-2 2.5,-2\"/>\n",
       "<polyline fill=\"none\" stroke=\"#444443\" points=\"49.5,-2 49.5,-16 \"/>\n",
       "<text text-anchor=\"start\" x=\"26.5\" y=\"-6.2\" font-family=\"Helvetica,sans-Serif\" font-size=\"11.00\" fill=\"#444443\">rate </text>\n",
       "<polygon fill=\"#fefecd\" stroke=\"transparent\" points=\"51.5,-2 51.5,-16 87.5,-16 87.5,-2 51.5,-2\"/>\n",
       "<text text-anchor=\"start\" x=\"52.5\" y=\"-6.2\" font-family=\"Helvetica,sans-Serif\" font-size=\"11.00\" fill=\"#444443\"> 0.15</text>\n",
       "</g>\n",
       "</g>\n",
       "</svg>\n"
      ],
      "text/plain": [
       "<graphviz.files.Source at 0x7fdb8881b490>"
      ]
     },
     "execution_count": 37,
     "metadata": {},
     "output_type": "execute_result"
    }
   ],
   "source": [
    "objviz(b)"
   ]
  },
  {
   "cell_type": "markdown",
   "metadata": {},
   "source": [
    "A class inherits all methods defined in the superclass(es) so, in this case, InterestingAccount inherits method add():"
   ]
  },
  {
   "cell_type": "code",
   "execution_count": 38,
   "metadata": {},
   "outputs": [
    {
     "data": {
      "image/svg+xml": [
       "<?xml version=\"1.0\" encoding=\"UTF-8\" standalone=\"no\"?>\n",
       "<!DOCTYPE svg PUBLIC \"-//W3C//DTD SVG 1.1//EN\"\n",
       " \"http://www.w3.org/Graphics/SVG/1.1/DTD/svg11.dtd\">\n",
       "<!-- Generated by graphviz version 2.47.3 (20210619.1520)\n",
       " -->\n",
       "<!-- Title: G Pages: 1 -->\n",
       "<svg width=\"97pt\" height=\"58pt\"\n",
       " viewBox=\"0.00 0.00 97.00 58.00\" xmlns=\"http://www.w3.org/2000/svg\" xmlns:xlink=\"http://www.w3.org/1999/xlink\">\n",
       "<g id=\"graph0\" class=\"graph\" transform=\"scale(1 1) rotate(0) translate(4 54)\">\n",
       "<title>G</title>\n",
       "<polygon fill=\"white\" stroke=\"transparent\" points=\"-4,4 -4,-54 93,-54 93,4 -4,4\"/>\n",
       "<!-- node140580864816224 -->\n",
       "<g id=\"node1\" class=\"node\">\n",
       "<title>node140580864816224</title>\n",
       "<polygon fill=\"#fefecd\" stroke=\"#444443\" stroke-width=\"0.5\" points=\"89,-50 0,-50 0,0 89,0 89,-50\"/>\n",
       "<polygon fill=\"#fefecd\" stroke=\"transparent\" points=\"2.5,-34 2.5,-48 87.5,-48 87.5,-34 2.5,-34\"/>\n",
       "<polyline fill=\"none\" stroke=\"#444443\" points=\"2.5,-34 87.5,-34 \"/>\n",
       "<text text-anchor=\"start\" x=\"3.5\" y=\"-38.2\" font-family=\"Times,serif\" font-style=\"italic\" font-size=\"11.00\" fill=\"#444443\">InterestingAccount</text>\n",
       "<polygon fill=\"#fefecd\" stroke=\"transparent\" points=\"2.5,-32 2.5,-34 87.5,-34 87.5,-32 2.5,-32\"/>\n",
       "<polygon fill=\"#fefecd\" stroke=\"transparent\" points=\"2.5,-18 2.5,-32 49.5,-32 49.5,-18 2.5,-18\"/>\n",
       "<polyline fill=\"none\" stroke=\"#444443\" points=\"49.5,-18 49.5,-32 \"/>\n",
       "<text text-anchor=\"start\" x=\"7.5\" y=\"-22.2\" font-family=\"Helvetica,sans-Serif\" font-size=\"11.00\" fill=\"#444443\">balance </text>\n",
       "<polygon fill=\"#fefecd\" stroke=\"transparent\" points=\"51.5,-18 51.5,-32 87.5,-32 87.5,-18 51.5,-18\"/>\n",
       "<text text-anchor=\"start\" x=\"52.5\" y=\"-22.2\" font-family=\"Helvetica,sans-Serif\" font-size=\"11.00\" fill=\"#444443\"> 115.0</text>\n",
       "<polygon fill=\"#fefecd\" stroke=\"transparent\" points=\"2.5,-16 2.5,-18 87.5,-18 87.5,-16 2.5,-16\"/>\n",
       "<polygon fill=\"#fefecd\" stroke=\"transparent\" points=\"2.5,-2 2.5,-16 49.5,-16 49.5,-2 2.5,-2\"/>\n",
       "<polyline fill=\"none\" stroke=\"#444443\" points=\"49.5,-2 49.5,-16 \"/>\n",
       "<text text-anchor=\"start\" x=\"26.5\" y=\"-6.2\" font-family=\"Helvetica,sans-Serif\" font-size=\"11.00\" fill=\"#444443\">rate </text>\n",
       "<polygon fill=\"#fefecd\" stroke=\"transparent\" points=\"51.5,-2 51.5,-16 87.5,-16 87.5,-2 51.5,-2\"/>\n",
       "<text text-anchor=\"start\" x=\"52.5\" y=\"-6.2\" font-family=\"Helvetica,sans-Serif\" font-size=\"11.00\" fill=\"#444443\"> 0.15</text>\n",
       "</g>\n",
       "</g>\n",
       "</svg>\n"
      ],
      "text/plain": [
       "<graphviz.files.Source at 0x7fdb8881b700>"
      ]
     },
     "execution_count": 38,
     "metadata": {},
     "output_type": "execute_result"
    }
   ],
   "source": [
    "class InterestingAccount(Account):\n",
    "    def __init__(self, starting, rate):\n",
    "        super().__init__(starting)\n",
    "        self.rate = rate\n",
    "\n",
    "b = InterestingAccount(100.0, 0.15)\n",
    "b.add(15)\n",
    "objviz(b)"
   ]
  },
  {
   "cell_type": "markdown",
   "metadata": {},
   "source": [
    "We can also override a method defined above:"
   ]
  },
  {
   "cell_type": "code",
   "execution_count": 39,
   "metadata": {},
   "outputs": [
    {
     "data": {
      "text/plain": [
       "132.25"
      ]
     },
     "execution_count": 39,
     "metadata": {},
     "output_type": "execute_result"
    }
   ],
   "source": [
    "class InterestingAccount(Account):\n",
    "    def __init__(self, starting, rate):\n",
    "        super().__init__(starting)\n",
    "        self.rate = rate\n",
    "    def total(self): # OVERRIDE method\n",
    "        return self.balance + self.balance * self.rate\n",
    "\n",
    "b = InterestingAccount(100.0, 0.15)\n",
    "b.add(15)\n",
    "b.total()"
   ]
  },
  {
   "cell_type": "code",
   "execution_count": 40,
   "metadata": {},
   "outputs": [
    {
     "data": {
      "image/svg+xml": [
       "<?xml version=\"1.0\" encoding=\"UTF-8\" standalone=\"no\"?>\n",
       "<!DOCTYPE svg PUBLIC \"-//W3C//DTD SVG 1.1//EN\"\n",
       " \"http://www.w3.org/Graphics/SVG/1.1/DTD/svg11.dtd\">\n",
       "<!-- Generated by graphviz version 2.47.3 (20210619.1520)\n",
       " -->\n",
       "<!-- Title: G Pages: 1 -->\n",
       "<svg width=\"97pt\" height=\"58pt\"\n",
       " viewBox=\"0.00 0.00 97.00 58.00\" xmlns=\"http://www.w3.org/2000/svg\" xmlns:xlink=\"http://www.w3.org/1999/xlink\">\n",
       "<g id=\"graph0\" class=\"graph\" transform=\"scale(1 1) rotate(0) translate(4 54)\">\n",
       "<title>G</title>\n",
       "<polygon fill=\"white\" stroke=\"transparent\" points=\"-4,4 -4,-54 93,-54 93,4 -4,4\"/>\n",
       "<!-- node140580864703936 -->\n",
       "<g id=\"node1\" class=\"node\">\n",
       "<title>node140580864703936</title>\n",
       "<polygon fill=\"#fefecd\" stroke=\"#444443\" stroke-width=\"0.5\" points=\"89,-50 0,-50 0,0 89,0 89,-50\"/>\n",
       "<polygon fill=\"#fefecd\" stroke=\"transparent\" points=\"2.5,-34 2.5,-48 87.5,-48 87.5,-34 2.5,-34\"/>\n",
       "<polyline fill=\"none\" stroke=\"#444443\" points=\"2.5,-34 87.5,-34 \"/>\n",
       "<text text-anchor=\"start\" x=\"3.5\" y=\"-38.2\" font-family=\"Times,serif\" font-style=\"italic\" font-size=\"11.00\" fill=\"#444443\">InterestingAccount</text>\n",
       "<polygon fill=\"#fefecd\" stroke=\"transparent\" points=\"2.5,-32 2.5,-34 87.5,-34 87.5,-32 2.5,-32\"/>\n",
       "<polygon fill=\"#fefecd\" stroke=\"transparent\" points=\"2.5,-18 2.5,-32 49.5,-32 49.5,-18 2.5,-18\"/>\n",
       "<polyline fill=\"none\" stroke=\"#444443\" points=\"49.5,-18 49.5,-32 \"/>\n",
       "<text text-anchor=\"start\" x=\"7.5\" y=\"-22.2\" font-family=\"Helvetica,sans-Serif\" font-size=\"11.00\" fill=\"#444443\">balance </text>\n",
       "<polygon fill=\"#fefecd\" stroke=\"transparent\" points=\"51.5,-18 51.5,-32 87.5,-32 87.5,-18 51.5,-18\"/>\n",
       "<text text-anchor=\"start\" x=\"52.5\" y=\"-22.2\" font-family=\"Helvetica,sans-Serif\" font-size=\"11.00\" fill=\"#444443\"> 115.0</text>\n",
       "<polygon fill=\"#fefecd\" stroke=\"transparent\" points=\"2.5,-16 2.5,-18 87.5,-18 87.5,-16 2.5,-16\"/>\n",
       "<polygon fill=\"#fefecd\" stroke=\"transparent\" points=\"2.5,-2 2.5,-16 49.5,-16 49.5,-2 2.5,-2\"/>\n",
       "<polyline fill=\"none\" stroke=\"#444443\" points=\"49.5,-2 49.5,-16 \"/>\n",
       "<text text-anchor=\"start\" x=\"26.5\" y=\"-6.2\" font-family=\"Helvetica,sans-Serif\" font-size=\"11.00\" fill=\"#444443\">rate </text>\n",
       "<polygon fill=\"#fefecd\" stroke=\"transparent\" points=\"51.5,-2 51.5,-16 87.5,-16 87.5,-2 51.5,-2\"/>\n",
       "<text text-anchor=\"start\" x=\"52.5\" y=\"-6.2\" font-family=\"Helvetica,sans-Serif\" font-size=\"11.00\" fill=\"#444443\"> 0.15</text>\n",
       "</g>\n",
       "</g>\n",
       "</svg>\n"
      ],
      "text/plain": [
       "<graphviz.files.Source at 0x7fdb888128e0>"
      ]
     },
     "execution_count": 40,
     "metadata": {},
     "output_type": "execute_result"
    }
   ],
   "source": [
    "objviz(b)"
   ]
  },
  {
   "cell_type": "markdown",
   "metadata": {},
   "source": [
    "The key is that we get to use `add()` without having to redefine it in `InterestingAccount` and `InterestingAccount` also gets to override what the `total()` of the account is.  We have *reused* and *refined* previous functionality. You can think of the superclass as defining some initial functions that we can reuse or override in the subclass.\n",
    "\n",
    "We can also *extend* the functionality by adding a method that is not in the superclass."
   ]
  },
  {
   "cell_type": "code",
   "execution_count": 41,
   "metadata": {},
   "outputs": [],
   "source": [
    "class InterestingAccount(Account):\n",
    "    def __init__(self, starting, rate):\n",
    "        super().__init__(starting)\n",
    "        self.rate = rate\n",
    "\n",
    "    def total(self): # OVERRIDE method\n",
    "        return self.balance + self.balance * self.rate\n",
    "    \n",
    "    def profit(self):\n",
    "        return self.balance * self.rate"
   ]
  },
  {
   "cell_type": "code",
   "execution_count": 42,
   "metadata": {},
   "outputs": [
    {
     "data": {
      "text/plain": [
       "17.25"
      ]
     },
     "execution_count": 42,
     "metadata": {},
     "output_type": "execute_result"
    }
   ],
   "source": [
    "b = InterestingAccount(100.0, 0.15)\n",
    "b.add(15)\n",
    "b.profit()"
   ]
  },
  {
   "cell_type": "code",
   "execution_count": 43,
   "metadata": {
    "scrolled": true
   },
   "outputs": [
    {
     "name": "stdout",
     "output_type": "stream",
     "text": [
      "<class '__main__.Account'>\n",
      "<class '__main__.InterestingAccount'>\n"
     ]
    }
   ],
   "source": [
    "a = Account(100.0)\n",
    "b = InterestingAccount(100.0, 0.15)\n",
    "print(type(a))\n",
    "print(type(b))"
   ]
  },
  {
   "cell_type": "markdown",
   "metadata": {},
   "source": [
    "The class definitions are actually objects themselves that you can access with a secret field of any object:"
   ]
  },
  {
   "cell_type": "code",
   "execution_count": 44,
   "metadata": {},
   "outputs": [
    {
     "name": "stdout",
     "output_type": "stream",
     "text": [
      "<class '__main__.InterestingAccount'>\n",
      "<class '__main__.Account'>\n"
     ]
    }
   ],
   "source": [
    "print(b.__class__)\n",
    "print(b.__class__.__base__)"
   ]
  },
  {
   "cell_type": "markdown",
   "metadata": {},
   "source": [
    "## Exercise"
   ]
  },
  {
   "cell_type": "markdown",
   "metadata": {},
   "source": [
    "1. What is a class?\n",
    "1. What's the difference between a class and an instance?\n",
    "1. Define a new instance of class `Foo` using a constructor that takes no arguments.\n",
    "1. What is the syntax to access a field of an object?\n",
    "1. How does a method differ from a function?\n",
    "1. What does the `__init__` method do?\n",
    "1. Given classes `Employee` and `Manager`, which is the superclass in which is the subclass?\n",
    "1. Can a method in a subclass call a method defined in the superclass?\n",
    "1. How do you override a method inherited from your superclass?"
   ]
  },
  {
   "cell_type": "markdown",
   "metadata": {},
   "source": [
    "## Dynamic dispatch (Advanced)"
   ]
  },
  {
   "cell_type": "markdown",
   "metadata": {},
   "source": [
    "When you call `b.add(15)`, Python looks up function `add` within the object definition for `b` (`InterestingAccount`).  Because we have inherited that method from the superclass, subclass knows about it. When we call `b.total()`, Python again looks up method within `InterestingAccount` and finds an overridden method. That is why `b.total()` doesn't invoke the `Account` version.\n",
    "\n",
    "This behavior is desirable but extremely confusing at first. Here is an example of it in action where I have added a `__str__` method to the superclass:"
   ]
  },
  {
   "cell_type": "code",
   "execution_count": 45,
   "metadata": {},
   "outputs": [],
   "source": [
    "class Account:\n",
    "    def __init__(self, starting):\n",
    "        self.balance = starting\n",
    "\n",
    "    def add(self, value):\n",
    "        self.balance += value\n",
    "\n",
    "    def total(self):\n",
    "        return self.balance\n",
    "    \n",
    "    def __str__(self):\n",
    "        return f\"Balance {self.total()}\" # can call 2 different functions\n",
    "    \n",
    "class InterestingAccount(Account): # derive from super class to get subclass\n",
    "    def __init__(self, starting, rate):\n",
    "        self.balance = starting\n",
    "        self.rate = rate\n",
    "\n",
    "    def total(self): # OVERRIDE method\n",
    "        return self.balance + self.balance * self.rate\n",
    "    \n",
    "    def profit(self):\n",
    "        return self.balance * self.rate"
   ]
  },
  {
   "cell_type": "markdown",
   "metadata": {},
   "source": [
    "The devious part is that `__str__` in `Account` calls `Account.total()` or `InterestingAccount.total()`, depending on the type of `self`:"
   ]
  },
  {
   "cell_type": "code",
   "execution_count": 46,
   "metadata": {},
   "outputs": [
    {
     "name": "stdout",
     "output_type": "stream",
     "text": [
      "Balance 100.0\n",
      "Balance 115.0\n"
     ]
    }
   ],
   "source": [
    "a = Account(100.0)\n",
    "b = InterestingAccount(100.0, 0.15)\n",
    "print(a) # calls Account.total()\n",
    "print(b) # calls InterestingAccount.total()"
   ]
  },
  {
   "cell_type": "markdown",
   "metadata": {
    "code_folding": []
   },
   "source": [
    "## Exercise"
   ]
  },
  {
   "cell_type": "markdown",
   "metadata": {},
   "source": [
    "Define a `Point3D` that inherits from `Point`. \n",
    "\n",
    "Define constructor that takes x,y,z values and sets fields. Call `super().__init__(x,y)` to call constructor of superclass.\n",
    "\n",
    "Define / override `distance(q)` so it works with 3D field values to return distance.\n",
    "\n",
    "Test with\n",
    "\n",
    "```\n",
    "p = Point3D(3,4,9)\n",
    "q = Point3D(5,6,10)\n",
    "print(p.distance(q))\n",
    "```\n",
    "\n",
    "Add method `__str__` so that `print(q)` prints something nice like `(3,4,5)`.  Recall:\n",
    "\n",
    "\n",
    "$dist(x,y) = \\sqrt{(x_1-y_1)^2 + (x_2-y_2)^2 + (x_3-y_3)^2)}$\n"
   ]
  },
  {
   "cell_type": "markdown",
   "metadata": {},
   "source": [
    "### Solution"
   ]
  },
  {
   "cell_type": "code",
   "execution_count": 47,
   "metadata": {},
   "outputs": [],
   "source": [
    "import numpy as np\n",
    "\n",
    "class Point3D(Point):\n",
    "    def __init__(self, x, y, z):\n",
    "        # reuse/refine super class constructor\n",
    "        super().__init__(x,y)\n",
    "        self.z = z\n",
    "        \n",
    "    def distance(self, other):\n",
    "        return np.sqrt( (self.x - other.x)**2 +\n",
    "                        (self.y - other.y)**2 +\n",
    "                        (self.z - other.z)**2 )\n",
    "    \n",
    "    def __str__(self):\n",
    "        return f\"({self.x},{self.y},{self.z})\""
   ]
  },
  {
   "cell_type": "code",
   "execution_count": 48,
   "metadata": {},
   "outputs": [
    {
     "name": "stdout",
     "output_type": "stream",
     "text": [
      "3.0\n"
     ]
    }
   ],
   "source": [
    "p = Point3D(3,4,9)\n",
    "q = Point3D(5,6,10)\n",
    "print(p.distance(q))"
   ]
  },
  {
   "cell_type": "markdown",
   "metadata": {},
   "source": [
    "# Rationale and general thoughts"
   ]
  },
  {
   "cell_type": "markdown",
   "metadata": {},
   "source": [
    "Because the mind of a hunter-gatherer views the world as a collection\n",
    "of objects that interact by sending messages, an OO programming paradigm\n",
    "maps well to the real world problems we try to simulate via computer.\n",
    "Further, we are at our best when programming the way our minds are\n",
    "hardwired to think.\n",
    "\n",
    "In general when writing software, we try to map real-world entities onto programming constructs. If we take a word problem, the nouns typically become objects and the verbs typically become methods within these objects.\n",
    "\n",
    "Because we can specify how differently-typed objects are similar,\n",
    "we can define new objects as they differ from existing objects.\n",
    "By correctly relating similar classes by their category/commonality/\n",
    "similarity, code reuse occurs as a side-effect of inheritance.\n",
    "\n",
    "Non-OO languages are inflexible/brittle because the exact type\n",
    "of variables must be specified.  In OO languages, *polymorphism* is the ability to refer to groups of similar but different types using a single type reference."
   ]
  }
 ],
 "metadata": {
  "kernelspec": {
   "display_name": "Python 3",
   "language": "python",
   "name": "python3"
  },
  "language_info": {
   "codemirror_mode": {
    "name": "ipython",
    "version": 3
   },
   "file_extension": ".py",
   "mimetype": "text/x-python",
   "name": "python",
   "nbconvert_exporter": "python",
   "pygments_lexer": "ipython3",
   "version": "3.8.8"
  },
  "toc": {
   "colors": {
    "hover_highlight": "#DAA520",
    "navigate_num": "#000000",
    "navigate_text": "#333333",
    "running_highlight": "#FF0000",
    "selected_highlight": "#FFD700",
    "sidebar_border": "#EEEEEE",
    "wrapper_background": "#FFFFFF"
   },
   "moveMenuLeft": true,
   "nav_menu": {
    "height": "178px",
    "width": "252px"
   },
   "navigate_menu": true,
   "number_sections": true,
   "sideBar": true,
   "skip_h1_title": false,
   "threshold": 4,
   "toc_cell": false,
   "toc_position": {
    "height": "920px",
    "left": "0px",
    "right": "793.6px",
    "top": "136px",
    "width": "212px"
   },
   "toc_section_display": "block",
   "toc_window_display": false,
   "widenNotebook": false
  }
 },
 "nbformat": 4,
 "nbformat_minor": 4
}
